{
  "cells": [
    {
      "cell_type": "markdown",
      "metadata": {
        "id": "view-in-github",
        "colab_type": "text"
      },
      "source": [
        "<a href=\"https://colab.research.google.com/github/hungpham1406/Discrete-Project-Code/blob/main/LSTM_Model_gg_colab.ipynb\" target=\"_parent\"><img src=\"https://colab.research.google.com/assets/colab-badge.svg\" alt=\"Open In Colab\"/></a>"
      ]
    },
    {
      "cell_type": "code",
      "execution_count": null,
      "metadata": {
        "id": "t-JYtC61Up_4"
      },
      "outputs": [],
      "source": [
        "# This predict model uses Long Short Term Memory (LSTM) to predict the stock price of a corporation"
      ]
    },
    {
      "cell_type": "code",
      "execution_count": null,
      "metadata": {
        "id": "ojeZZbZFWY48"
      },
      "outputs": [],
      "source": [
        "#Import the libraries\n",
        "import math\n",
        "import pandas_datareader as web\n",
        "import numpy as np\n",
        "import pandas as pd\n",
        "from sklearn.preprocessing import MinMaxScaler\n",
        "from keras.models import Sequential\n",
        "from keras.layers import Dense, LSTM\n",
        "import matplotlib.pyplot as plt\n",
        "plt.style.use('fivethirtyeight')"
      ]
    },
    {
      "cell_type": "code",
      "execution_count": null,
      "metadata": {
        "colab": {
          "base_uri": "https://localhost:8080/"
        },
        "id": "4ICGEJP6q_EW",
        "outputId": "ecae81b9-1a3d-4f41-a8a8-e1f0f8da6b2b"
      },
      "outputs": [
        {
          "output_type": "stream",
          "name": "stdout",
          "text": [
            "Looking in indexes: https://pypi.org/simple, https://us-python.pkg.dev/colab-wheels/public/simple/\n",
            "Collecting vnstock\n",
            "  Downloading vnstock-0.1.2-py3-none-any.whl (15 kB)\n",
            "Installing collected packages: vnstock\n",
            "Successfully installed vnstock-0.1.2\n"
          ]
        }
      ],
      "source": [
        "pip install vnstock"
      ]
    },
    {
      "cell_type": "code",
      "execution_count": null,
      "metadata": {
        "id": "TdKnWdPzrMRN"
      },
      "outputs": [],
      "source": [
        "from vnstock import *"
      ]
    },
    {
      "cell_type": "code",
      "execution_count": null,
      "metadata": {
        "colab": {
          "base_uri": "https://localhost:8080/",
          "height": 423
        },
        "id": "u0ndfQJnXHYz",
        "outputId": "2a8d5b22-9c90-47a4-9775-9aaba3f89f91"
      },
      "outputs": [
        {
          "output_type": "execute_result",
          "data": {
            "text/plain": [
              "        Open     High      Low    Close   Volume TradingDate\n",
              "0    16000.0  16700.0  16000.0  16200.0  1521592  2022-01-04\n",
              "1    16200.0  17800.0  16100.0  17800.0  4180638  2022-01-05\n",
              "2    17500.0  19500.0  17500.0  19300.0  4814448  2022-01-06\n",
              "3    19500.0  20600.0  19200.0  19200.0  2898764  2022-01-07\n",
              "4    19100.0  21000.0  18100.0  19900.0  5126016  2022-01-10\n",
              "..       ...      ...      ...      ...      ...         ...\n",
              "200   2600.0   2900.0   2600.0   2600.0   672303  2022-10-25\n",
              "201   2600.0   2700.0   2400.0   2400.0   444100  2022-10-26\n",
              "202   2400.0   2600.0   2200.0   2600.0   603017  2022-10-27\n",
              "203   2600.0   2700.0   2500.0   2500.0   304431  2022-10-28\n",
              "204   2500.0   2600.0   2300.0   2300.0   360400  2022-10-31\n",
              "\n",
              "[205 rows x 6 columns]"
            ],
            "text/html": [
              "\n",
              "  <div id=\"df-8cec8b59-aacd-4733-8c64-e92ddc4e3e6b\">\n",
              "    <div class=\"colab-df-container\">\n",
              "      <div>\n",
              "<style scoped>\n",
              "    .dataframe tbody tr th:only-of-type {\n",
              "        vertical-align: middle;\n",
              "    }\n",
              "\n",
              "    .dataframe tbody tr th {\n",
              "        vertical-align: top;\n",
              "    }\n",
              "\n",
              "    .dataframe thead th {\n",
              "        text-align: right;\n",
              "    }\n",
              "</style>\n",
              "<table border=\"1\" class=\"dataframe\">\n",
              "  <thead>\n",
              "    <tr style=\"text-align: right;\">\n",
              "      <th></th>\n",
              "      <th>Open</th>\n",
              "      <th>High</th>\n",
              "      <th>Low</th>\n",
              "      <th>Close</th>\n",
              "      <th>Volume</th>\n",
              "      <th>TradingDate</th>\n",
              "    </tr>\n",
              "  </thead>\n",
              "  <tbody>\n",
              "    <tr>\n",
              "      <th>0</th>\n",
              "      <td>16000.0</td>\n",
              "      <td>16700.0</td>\n",
              "      <td>16000.0</td>\n",
              "      <td>16200.0</td>\n",
              "      <td>1521592</td>\n",
              "      <td>2022-01-04</td>\n",
              "    </tr>\n",
              "    <tr>\n",
              "      <th>1</th>\n",
              "      <td>16200.0</td>\n",
              "      <td>17800.0</td>\n",
              "      <td>16100.0</td>\n",
              "      <td>17800.0</td>\n",
              "      <td>4180638</td>\n",
              "      <td>2022-01-05</td>\n",
              "    </tr>\n",
              "    <tr>\n",
              "      <th>2</th>\n",
              "      <td>17500.0</td>\n",
              "      <td>19500.0</td>\n",
              "      <td>17500.0</td>\n",
              "      <td>19300.0</td>\n",
              "      <td>4814448</td>\n",
              "      <td>2022-01-06</td>\n",
              "    </tr>\n",
              "    <tr>\n",
              "      <th>3</th>\n",
              "      <td>19500.0</td>\n",
              "      <td>20600.0</td>\n",
              "      <td>19200.0</td>\n",
              "      <td>19200.0</td>\n",
              "      <td>2898764</td>\n",
              "      <td>2022-01-07</td>\n",
              "    </tr>\n",
              "    <tr>\n",
              "      <th>4</th>\n",
              "      <td>19100.0</td>\n",
              "      <td>21000.0</td>\n",
              "      <td>18100.0</td>\n",
              "      <td>19900.0</td>\n",
              "      <td>5126016</td>\n",
              "      <td>2022-01-10</td>\n",
              "    </tr>\n",
              "    <tr>\n",
              "      <th>...</th>\n",
              "      <td>...</td>\n",
              "      <td>...</td>\n",
              "      <td>...</td>\n",
              "      <td>...</td>\n",
              "      <td>...</td>\n",
              "      <td>...</td>\n",
              "    </tr>\n",
              "    <tr>\n",
              "      <th>200</th>\n",
              "      <td>2600.0</td>\n",
              "      <td>2900.0</td>\n",
              "      <td>2600.0</td>\n",
              "      <td>2600.0</td>\n",
              "      <td>672303</td>\n",
              "      <td>2022-10-25</td>\n",
              "    </tr>\n",
              "    <tr>\n",
              "      <th>201</th>\n",
              "      <td>2600.0</td>\n",
              "      <td>2700.0</td>\n",
              "      <td>2400.0</td>\n",
              "      <td>2400.0</td>\n",
              "      <td>444100</td>\n",
              "      <td>2022-10-26</td>\n",
              "    </tr>\n",
              "    <tr>\n",
              "      <th>202</th>\n",
              "      <td>2400.0</td>\n",
              "      <td>2600.0</td>\n",
              "      <td>2200.0</td>\n",
              "      <td>2600.0</td>\n",
              "      <td>603017</td>\n",
              "      <td>2022-10-27</td>\n",
              "    </tr>\n",
              "    <tr>\n",
              "      <th>203</th>\n",
              "      <td>2600.0</td>\n",
              "      <td>2700.0</td>\n",
              "      <td>2500.0</td>\n",
              "      <td>2500.0</td>\n",
              "      <td>304431</td>\n",
              "      <td>2022-10-28</td>\n",
              "    </tr>\n",
              "    <tr>\n",
              "      <th>204</th>\n",
              "      <td>2500.0</td>\n",
              "      <td>2600.0</td>\n",
              "      <td>2300.0</td>\n",
              "      <td>2300.0</td>\n",
              "      <td>360400</td>\n",
              "      <td>2022-10-31</td>\n",
              "    </tr>\n",
              "  </tbody>\n",
              "</table>\n",
              "<p>205 rows × 6 columns</p>\n",
              "</div>\n",
              "      <button class=\"colab-df-convert\" onclick=\"convertToInteractive('df-8cec8b59-aacd-4733-8c64-e92ddc4e3e6b')\"\n",
              "              title=\"Convert this dataframe to an interactive table.\"\n",
              "              style=\"display:none;\">\n",
              "        \n",
              "  <svg xmlns=\"http://www.w3.org/2000/svg\" height=\"24px\"viewBox=\"0 0 24 24\"\n",
              "       width=\"24px\">\n",
              "    <path d=\"M0 0h24v24H0V0z\" fill=\"none\"/>\n",
              "    <path d=\"M18.56 5.44l.94 2.06.94-2.06 2.06-.94-2.06-.94-.94-2.06-.94 2.06-2.06.94zm-11 1L8.5 8.5l.94-2.06 2.06-.94-2.06-.94L8.5 2.5l-.94 2.06-2.06.94zm10 10l.94 2.06.94-2.06 2.06-.94-2.06-.94-.94-2.06-.94 2.06-2.06.94z\"/><path d=\"M17.41 7.96l-1.37-1.37c-.4-.4-.92-.59-1.43-.59-.52 0-1.04.2-1.43.59L10.3 9.45l-7.72 7.72c-.78.78-.78 2.05 0 2.83L4 21.41c.39.39.9.59 1.41.59.51 0 1.02-.2 1.41-.59l7.78-7.78 2.81-2.81c.8-.78.8-2.07 0-2.86zM5.41 20L4 18.59l7.72-7.72 1.47 1.35L5.41 20z\"/>\n",
              "  </svg>\n",
              "      </button>\n",
              "      \n",
              "  <style>\n",
              "    .colab-df-container {\n",
              "      display:flex;\n",
              "      flex-wrap:wrap;\n",
              "      gap: 12px;\n",
              "    }\n",
              "\n",
              "    .colab-df-convert {\n",
              "      background-color: #E8F0FE;\n",
              "      border: none;\n",
              "      border-radius: 50%;\n",
              "      cursor: pointer;\n",
              "      display: none;\n",
              "      fill: #1967D2;\n",
              "      height: 32px;\n",
              "      padding: 0 0 0 0;\n",
              "      width: 32px;\n",
              "    }\n",
              "\n",
              "    .colab-df-convert:hover {\n",
              "      background-color: #E2EBFA;\n",
              "      box-shadow: 0px 1px 2px rgba(60, 64, 67, 0.3), 0px 1px 3px 1px rgba(60, 64, 67, 0.15);\n",
              "      fill: #174EA6;\n",
              "    }\n",
              "\n",
              "    [theme=dark] .colab-df-convert {\n",
              "      background-color: #3B4455;\n",
              "      fill: #D2E3FC;\n",
              "    }\n",
              "\n",
              "    [theme=dark] .colab-df-convert:hover {\n",
              "      background-color: #434B5C;\n",
              "      box-shadow: 0px 1px 3px 1px rgba(0, 0, 0, 0.15);\n",
              "      filter: drop-shadow(0px 1px 2px rgba(0, 0, 0, 0.3));\n",
              "      fill: #FFFFFF;\n",
              "    }\n",
              "  </style>\n",
              "\n",
              "      <script>\n",
              "        const buttonEl =\n",
              "          document.querySelector('#df-8cec8b59-aacd-4733-8c64-e92ddc4e3e6b button.colab-df-convert');\n",
              "        buttonEl.style.display =\n",
              "          google.colab.kernel.accessAllowed ? 'block' : 'none';\n",
              "\n",
              "        async function convertToInteractive(key) {\n",
              "          const element = document.querySelector('#df-8cec8b59-aacd-4733-8c64-e92ddc4e3e6b');\n",
              "          const dataTable =\n",
              "            await google.colab.kernel.invokeFunction('convertToInteractive',\n",
              "                                                     [key], {});\n",
              "          if (!dataTable) return;\n",
              "\n",
              "          const docLinkHtml = 'Like what you see? Visit the ' +\n",
              "            '<a target=\"_blank\" href=https://colab.research.google.com/notebooks/data_table.ipynb>data table notebook</a>'\n",
              "            + ' to learn more about interactive tables.';\n",
              "          element.innerHTML = '';\n",
              "          dataTable['output_type'] = 'display_data';\n",
              "          await google.colab.output.renderOutput(dataTable, element);\n",
              "          const docLink = document.createElement('div');\n",
              "          docLink.innerHTML = docLinkHtml;\n",
              "          element.appendChild(docLink);\n",
              "        }\n",
              "      </script>\n",
              "    </div>\n",
              "  </div>\n",
              "  "
            ]
          },
          "metadata": {},
          "execution_count": 5
        }
      ],
      "source": [
        "#Get the stock data\n",
        "df =  stock_historical_data(symbol='PVL', start_date=\"2022-01-01\", end_date='2022-10-31')\n",
        "#Show the data\n",
        "df"
      ]
    },
    {
      "cell_type": "code",
      "execution_count": null,
      "metadata": {
        "colab": {
          "base_uri": "https://localhost:8080/"
        },
        "id": "cY5bDtbZdg-_",
        "outputId": "9d7d41df-27cc-4cc3-9609-2b45ed529c30"
      },
      "outputs": [
        {
          "output_type": "execute_result",
          "data": {
            "text/plain": [
              "(205, 6)"
            ]
          },
          "metadata": {},
          "execution_count": 6
        }
      ],
      "source": [
        "#Get the number of rows and columns in the data set\n",
        "df.shape"
      ]
    },
    {
      "cell_type": "code",
      "execution_count": null,
      "metadata": {
        "colab": {
          "base_uri": "https://localhost:8080/",
          "height": 558
        },
        "id": "rnyATAALscht",
        "outputId": "12cd642d-a500-472f-ee8a-96032e197b75"
      },
      "outputs": [
        {
          "output_type": "display_data",
          "data": {
            "text/plain": [
              "<Figure size 1152x576 with 1 Axes>"
            ],
            "image/png": "[encoded data removed]"
          },
          "metadata": {}
        }
      ],
      "source": [
        "#Visualize the closing price history\n",
        "plt.figure(figsize=(16,8))\n",
        "plt.title('Close Price History')\n",
        "plt.plot(df['Close'])\n",
        "plt.xlabel('Date', fontsize=18)\n",
        "plt.ylabel('Close Price VND ', fontsize=18)\n",
        "plt.show()"
      ]
    },
    {
      "cell_type": "code",
      "execution_count": null,
      "metadata": {
        "colab": {
          "base_uri": "https://localhost:8080/"
        },
        "id": "iftTbN2Jumba",
        "outputId": "cac1c52c-da6b-4a2f-a17c-2302dc1f03ad"
      },
      "outputs": [
        {
          "output_type": "execute_result",
          "data": {
            "text/plain": [
              "164"
            ]
          },
          "metadata": {},
          "execution_count": 8
        }
      ],
      "source": [
        "#Creat new dataframe with only the 'Close column'\n",
        "data = df.filter(['Close'])\n",
        "#Convert the dataframe to a numpy array\n",
        "dataset = data.values\n",
        "#Get the number of rows to train the model\n",
        "training_data_len = math.ceil( len(dataset) * .8 )\n",
        "training_data_len"
      ]
    },
    {
      "cell_type": "code",
      "execution_count": null,
      "metadata": {
        "colab": {
          "base_uri": "https://localhost:8080/"
        },
        "id": "RMY6UG-OwK66",
        "outputId": "85b9326d-d4f7-485e-a690-211f2ad45ca0"
      },
      "outputs": [
        {
          "output_type": "execute_result",
          "data": {
            "text/plain": [
              "array([[0.78977273],\n",
              "       [0.88068182],\n",
              "       [0.96590909],\n",
              "       [0.96022727],\n",
              "       [1.        ],\n",
              "       [0.94318182],\n",
              "       [0.84090909],\n",
              "       [0.74431818],\n",
              "       [0.66477273],\n",
              "       [0.58522727],\n",
              "       [0.51704545],\n",
              "       [0.45454545],\n",
              "       [0.51136364],\n",
              "       [0.57386364],\n",
              "       [0.50568182],\n",
              "       [0.53977273],\n",
              "       [0.47727273],\n",
              "       [0.4375    ],\n",
              "       [0.4375    ],\n",
              "       [0.49431818],\n",
              "       [0.53409091],\n",
              "       [0.54545455],\n",
              "       [0.53409091],\n",
              "       [0.53977273],\n",
              "       [0.52840909],\n",
              "       [0.53977273],\n",
              "       [0.60227273],\n",
              "       [0.59659091],\n",
              "       [0.63636364],\n",
              "       [0.69318182],\n",
              "       [0.64204545],\n",
              "       [0.64204545],\n",
              "       [0.59659091],\n",
              "       [0.59659091],\n",
              "       [0.57954545],\n",
              "       [0.63068182],\n",
              "       [0.61931818],\n",
              "       [0.65909091],\n",
              "       [0.66477273],\n",
              "       [0.65340909],\n",
              "       [0.61363636],\n",
              "       [0.58522727],\n",
              "       [0.60227273],\n",
              "       [0.59659091],\n",
              "       [0.58522727],\n",
              "       [0.60795455],\n",
              "       [0.60795455],\n",
              "       [0.64772727],\n",
              "       [0.64204545],\n",
              "       [0.68181818],\n",
              "       [0.66477273],\n",
              "       [0.65909091],\n",
              "       [0.66477273],\n",
              "       [0.70454545],\n",
              "       [0.65340909],\n",
              "       [0.67613636],\n",
              "       [0.63068182],\n",
              "       [0.55681818],\n",
              "       [0.5625    ],\n",
              "       [0.58522727],\n",
              "       [0.54545455],\n",
              "       [0.48863636],\n",
              "       [0.49431818],\n",
              "       [0.46022727],\n",
              "       [0.40340909],\n",
              "       [0.40340909],\n",
              "       [0.40909091],\n",
              "       [0.35795455],\n",
              "       [0.3125    ],\n",
              "       [0.27272727],\n",
              "       [0.23295455],\n",
              "       [0.19886364],\n",
              "       [0.22727273],\n",
              "       [0.23863636],\n",
              "       [0.26704545],\n",
              "       [0.28977273],\n",
              "       [0.27840909],\n",
              "       [0.30681818],\n",
              "       [0.29545455],\n",
              "       [0.27272727],\n",
              "       [0.23863636],\n",
              "       [0.20454545],\n",
              "       [0.23295455],\n",
              "       [0.26136364],\n",
              "       [0.22727273],\n",
              "       [0.19318182],\n",
              "       [0.22159091],\n",
              "       [0.25568182],\n",
              "       [0.26136364],\n",
              "       [0.25568182],\n",
              "       [0.25568182],\n",
              "       [0.24431818],\n",
              "       [0.23863636],\n",
              "       [0.26136364],\n",
              "       [0.28977273],\n",
              "       [0.27840909],\n",
              "       [0.29545455],\n",
              "       [0.30681818],\n",
              "       [0.30113636],\n",
              "       [0.27840909],\n",
              "       [0.29545455],\n",
              "       [0.25568182],\n",
              "       [0.25568182],\n",
              "       [0.26704545],\n",
              "       [0.25568182],\n",
              "       [0.23295455],\n",
              "       [0.20454545],\n",
              "       [0.21022727],\n",
              "       [0.17613636],\n",
              "       [0.1875    ],\n",
              "       [0.15909091],\n",
              "       [0.13068182],\n",
              "       [0.13068182],\n",
              "       [0.15340909],\n",
              "       [0.18181818],\n",
              "       [0.18181818],\n",
              "       [0.1875    ],\n",
              "       [0.19886364],\n",
              "       [0.19318182],\n",
              "       [0.17045455],\n",
              "       [0.17045455],\n",
              "       [0.17613636],\n",
              "       [0.16477273],\n",
              "       [0.15340909],\n",
              "       [0.15340909],\n",
              "       [0.17045455],\n",
              "       [0.17045455],\n",
              "       [0.19886364],\n",
              "       [0.22159091],\n",
              "       [0.20454545],\n",
              "       [0.23295455],\n",
              "       [0.23863636],\n",
              "       [0.22727273],\n",
              "       [0.23295455],\n",
              "       [0.23295455],\n",
              "       [0.22727273],\n",
              "       [0.21022727],\n",
              "       [0.21022727],\n",
              "       [0.21590909],\n",
              "       [0.21590909],\n",
              "       [0.21590909],\n",
              "       [0.22727273],\n",
              "       [0.26136364],\n",
              "       [0.25      ],\n",
              "       [0.24431818],\n",
              "       [0.25568182],\n",
              "       [0.26704545],\n",
              "       [0.26704545],\n",
              "       [0.27272727],\n",
              "       [0.25568182],\n",
              "       [0.25568182],\n",
              "       [0.25568182],\n",
              "       [0.25568182],\n",
              "       [0.25      ],\n",
              "       [0.23863636],\n",
              "       [0.23295455],\n",
              "       [0.22159091],\n",
              "       [0.23863636],\n",
              "       [0.24431818],\n",
              "       [0.24431818],\n",
              "       [0.22727273],\n",
              "       [0.21590909],\n",
              "       [0.21590909],\n",
              "       [0.22727273],\n",
              "       [0.21590909],\n",
              "       [0.21590909],\n",
              "       [0.20454545],\n",
              "       [0.1875    ],\n",
              "       [0.19318182],\n",
              "       [0.19318182],\n",
              "       [0.19318182],\n",
              "       [0.19318182],\n",
              "       [0.1875    ],\n",
              "       [0.17613636],\n",
              "       [0.14772727],\n",
              "       [0.15909091],\n",
              "       [0.15909091],\n",
              "       [0.16477273],\n",
              "       [0.16477273],\n",
              "       [0.14204545],\n",
              "       [0.15340909],\n",
              "       [0.14772727],\n",
              "       [0.14204545],\n",
              "       [0.13636364],\n",
              "       [0.11363636],\n",
              "       [0.10795455],\n",
              "       [0.13068182],\n",
              "       [0.10795455],\n",
              "       [0.08522727],\n",
              "       [0.09659091],\n",
              "       [0.07386364],\n",
              "       [0.06818182],\n",
              "       [0.06818182],\n",
              "       [0.06818182],\n",
              "       [0.0625    ],\n",
              "       [0.06818182],\n",
              "       [0.06818182],\n",
              "       [0.0625    ],\n",
              "       [0.04545455],\n",
              "       [0.02840909],\n",
              "       [0.01704545],\n",
              "       [0.00568182],\n",
              "       [0.01704545],\n",
              "       [0.01136364],\n",
              "       [0.        ]])"
            ]
          },
          "metadata": {},
          "execution_count": 9
        }
      ],
      "source": [
        "#Scale the data\n",
        "scaler = MinMaxScaler(feature_range=(0,1))\n",
        "scaled_data = scaler.fit_transform(dataset)\n",
        "\n",
        "scaled_data"
      ]
    },
    {
      "cell_type": "code",
      "execution_count": null,
      "metadata": {
        "colab": {
          "base_uri": "https://localhost:8080/"
        },
        "id": "5nlfy1fuwu_F",
        "outputId": "f0b9f984-9325-42fa-d787-7ea3066bb142"
      },
      "outputs": [
        {
          "output_type": "stream",
          "name": "stdout",
          "text": [
            "[array([0.78977273, 0.88068182, 0.96590909, 0.96022727, 1.        ,\n",
            "       0.94318182, 0.84090909, 0.74431818, 0.66477273, 0.58522727,\n",
            "       0.51704545, 0.45454545, 0.51136364, 0.57386364, 0.50568182,\n",
            "       0.53977273, 0.47727273, 0.4375    , 0.4375    , 0.49431818,\n",
            "       0.53409091, 0.54545455, 0.53409091, 0.53977273, 0.52840909,\n",
            "       0.53977273, 0.60227273, 0.59659091, 0.63636364, 0.69318182,\n",
            "       0.64204545, 0.64204545, 0.59659091, 0.59659091, 0.57954545,\n",
            "       0.63068182, 0.61931818, 0.65909091, 0.66477273, 0.65340909,\n",
            "       0.61363636, 0.58522727, 0.60227273, 0.59659091, 0.58522727,\n",
            "       0.60795455, 0.60795455, 0.64772727, 0.64204545, 0.68181818,\n",
            "       0.66477273, 0.65909091, 0.66477273, 0.70454545, 0.65340909,\n",
            "       0.67613636, 0.63068182, 0.55681818, 0.5625    , 0.58522727,\n",
            "       0.54545455, 0.48863636, 0.49431818, 0.46022727, 0.40340909,\n",
            "       0.40340909, 0.40909091, 0.35795455, 0.3125    , 0.27272727,\n",
            "       0.23295455, 0.19886364, 0.22727273, 0.23863636, 0.26704545,\n",
            "       0.28977273, 0.27840909, 0.30681818, 0.29545455, 0.27272727])]\n",
            "[0.23863636363636365]\n",
            "\n",
            "[array([0.78977273, 0.88068182, 0.96590909, 0.96022727, 1.        ,\n",
            "       0.94318182, 0.84090909, 0.74431818, 0.66477273, 0.58522727,\n",
            "       0.51704545, 0.45454545, 0.51136364, 0.57386364, 0.50568182,\n",
            "       0.53977273, 0.47727273, 0.4375    , 0.4375    , 0.49431818,\n",
            "       0.53409091, 0.54545455, 0.53409091, 0.53977273, 0.52840909,\n",
            "       0.53977273, 0.60227273, 0.59659091, 0.63636364, 0.69318182,\n",
            "       0.64204545, 0.64204545, 0.59659091, 0.59659091, 0.57954545,\n",
            "       0.63068182, 0.61931818, 0.65909091, 0.66477273, 0.65340909,\n",
            "       0.61363636, 0.58522727, 0.60227273, 0.59659091, 0.58522727,\n",
            "       0.60795455, 0.60795455, 0.64772727, 0.64204545, 0.68181818,\n",
            "       0.66477273, 0.65909091, 0.66477273, 0.70454545, 0.65340909,\n",
            "       0.67613636, 0.63068182, 0.55681818, 0.5625    , 0.58522727,\n",
            "       0.54545455, 0.48863636, 0.49431818, 0.46022727, 0.40340909,\n",
            "       0.40340909, 0.40909091, 0.35795455, 0.3125    , 0.27272727,\n",
            "       0.23295455, 0.19886364, 0.22727273, 0.23863636, 0.26704545,\n",
            "       0.28977273, 0.27840909, 0.30681818, 0.29545455, 0.27272727]), array([0.88068182, 0.96590909, 0.96022727, 1.        , 0.94318182,\n",
            "       0.84090909, 0.74431818, 0.66477273, 0.58522727, 0.51704545,\n",
            "       0.45454545, 0.51136364, 0.57386364, 0.50568182, 0.53977273,\n",
            "       0.47727273, 0.4375    , 0.4375    , 0.49431818, 0.53409091,\n",
            "       0.54545455, 0.53409091, 0.53977273, 0.52840909, 0.53977273,\n",
            "       0.60227273, 0.59659091, 0.63636364, 0.69318182, 0.64204545,\n",
            "       0.64204545, 0.59659091, 0.59659091, 0.57954545, 0.63068182,\n",
            "       0.61931818, 0.65909091, 0.66477273, 0.65340909, 0.61363636,\n",
            "       0.58522727, 0.60227273, 0.59659091, 0.58522727, 0.60795455,\n",
            "       0.60795455, 0.64772727, 0.64204545, 0.68181818, 0.66477273,\n",
            "       0.65909091, 0.66477273, 0.70454545, 0.65340909, 0.67613636,\n",
            "       0.63068182, 0.55681818, 0.5625    , 0.58522727, 0.54545455,\n",
            "       0.48863636, 0.49431818, 0.46022727, 0.40340909, 0.40340909,\n",
            "       0.40909091, 0.35795455, 0.3125    , 0.27272727, 0.23295455,\n",
            "       0.19886364, 0.22727273, 0.23863636, 0.26704545, 0.28977273,\n",
            "       0.27840909, 0.30681818, 0.29545455, 0.27272727, 0.23863636])]\n",
            "[0.23863636363636365, 0.20454545454545453]\n",
            "\n"
          ]
        }
      ],
      "source": [
        "#Create the training data set\n",
        "#Create the scaled  training data set\n",
        "train_data = scaled_data[0:training_data_len , :]\n",
        "#Split the data into x_train and y_train data sets\n",
        "x_train = []\n",
        "y_train = []\n",
        "\n",
        "for i in range(80, len(train_data)):\n",
        "  x_train.append(train_data[i-80:i, 0])\n",
        "  y_train.append(train_data[i, 0])\n",
        "  if i<= 81:\n",
        "    print(x_train)\n",
        "    print(y_train)\n",
        "    print()"
      ]
    },
    {
      "cell_type": "code",
      "execution_count": null,
      "metadata": {
        "id": "7q150MZ0yJ_u"
      },
      "outputs": [],
      "source": [
        "#Convert the x_train and y_train to numpy arrays\n",
        "x_train, y_train = np.array(x_train), np.array(y_train)"
      ]
    },
    {
      "cell_type": "code",
      "execution_count": null,
      "metadata": {
        "colab": {
          "base_uri": "https://localhost:8080/"
        },
        "id": "2yfrXoo81CaT",
        "outputId": "b290dfe0-bc65-43c5-d20d-310166f355a7"
      },
      "outputs": [
        {
          "output_type": "execute_result",
          "data": {
            "text/plain": [
              "(84, 80, 1)"
            ]
          },
          "metadata": {},
          "execution_count": 12
        }
      ],
      "source": [
        "#Reshape the data\n",
        "x_train = np.reshape(x_train, (x_train.shape[0], x_train.shape[1], 1))\n",
        "x_train.shape"
      ]
    },
    {
      "cell_type": "code",
      "execution_count": null,
      "metadata": {
        "id": "bjIZn16d1cAX"
      },
      "outputs": [],
      "source": [
        "#Build the LSTM model\n",
        "model = Sequential()\n",
        "model.add(LSTM(50, return_sequences=True, input_shape = (x_train.shape[1], 1)))\n",
        "model.add(LSTM(50, return_sequences=False))\n",
        "model.add(Dense(25))\n",
        "model.add(Dense(1))"
      ]
    },
    {
      "cell_type": "code",
      "execution_count": null,
      "metadata": {
        "id": "wyF3NFWb2Gav"
      },
      "outputs": [],
      "source": [
        "#Compile the model\n",
        "model.compile(optimizer='adam', loss='mean_squared_error')"
      ]
    },
    {
      "cell_type": "code",
      "execution_count": null,
      "metadata": {
        "colab": {
          "base_uri": "https://localhost:8080/"
        },
        "id": "35vNpakC2PDd",
        "outputId": "00224737-7ce1-4788-8e94-b5925ca478c7"
      },
      "outputs": [
        {
          "output_type": "stream",
          "name": "stdout",
          "text": [
            "Epoch 1/50\n",
            "3/3 [==============================] - 6s 85ms/step - loss: 0.0231\n",
            "Epoch 2/50\n",
            "3/3 [==============================] - 0s 84ms/step - loss: 0.0061\n",
            "Epoch 3/50\n",
            "3/3 [==============================] - 0s 85ms/step - loss: 0.0041\n",
            "Epoch 4/50\n",
            "3/3 [==============================] - 0s 85ms/step - loss: 0.0021\n",
            "Epoch 5/50\n",
            "3/3 [==============================] - 0s 80ms/step - loss: 0.0033\n",
            "Epoch 6/50\n",
            "3/3 [==============================] - 0s 79ms/step - loss: 0.0021\n",
            "Epoch 7/50\n",
            "3/3 [==============================] - 0s 88ms/step - loss: 0.0014\n",
            "Epoch 8/50\n",
            "3/3 [==============================] - 0s 75ms/step - loss: 0.0018\n",
            "Epoch 9/50\n",
            "3/3 [==============================] - 0s 82ms/step - loss: 0.0016\n",
            "Epoch 10/50\n",
            "3/3 [==============================] - 0s 91ms/step - loss: 0.0013\n",
            "Epoch 11/50\n",
            "3/3 [==============================] - 0s 80ms/step - loss: 0.0015\n",
            "Epoch 12/50\n",
            "3/3 [==============================] - 0s 77ms/step - loss: 0.0014\n",
            "Epoch 13/50\n",
            "3/3 [==============================] - 0s 78ms/step - loss: 0.0013\n",
            "Epoch 14/50\n",
            "3/3 [==============================] - 0s 75ms/step - loss: 0.0013\n",
            "Epoch 15/50\n",
            "3/3 [==============================] - 0s 79ms/step - loss: 0.0013\n",
            "Epoch 16/50\n",
            "3/3 [==============================] - 0s 82ms/step - loss: 0.0012\n",
            "Epoch 17/50\n",
            "3/3 [==============================] - 0s 77ms/step - loss: 0.0013\n",
            "Epoch 18/50\n",
            "3/3 [==============================] - 0s 81ms/step - loss: 0.0012\n",
            "Epoch 19/50\n",
            "3/3 [==============================] - 0s 85ms/step - loss: 0.0012\n",
            "Epoch 20/50\n",
            "3/3 [==============================] - 0s 75ms/step - loss: 0.0012\n",
            "Epoch 21/50\n",
            "3/3 [==============================] - 0s 75ms/step - loss: 0.0012\n",
            "Epoch 22/50\n",
            "3/3 [==============================] - 0s 85ms/step - loss: 0.0012\n",
            "Epoch 23/50\n",
            "3/3 [==============================] - 0s 85ms/step - loss: 0.0012\n",
            "Epoch 24/50\n",
            "3/3 [==============================] - 0s 78ms/step - loss: 0.0012\n",
            "Epoch 25/50\n",
            "3/3 [==============================] - 0s 78ms/step - loss: 0.0012\n",
            "Epoch 26/50\n",
            "3/3 [==============================] - 0s 81ms/step - loss: 0.0012\n",
            "Epoch 27/50\n",
            "3/3 [==============================] - 0s 80ms/step - loss: 0.0011\n",
            "Epoch 28/50\n",
            "3/3 [==============================] - 0s 77ms/step - loss: 0.0011\n",
            "Epoch 29/50\n",
            "3/3 [==============================] - 0s 82ms/step - loss: 0.0011\n",
            "Epoch 30/50\n",
            "3/3 [==============================] - 0s 76ms/step - loss: 0.0011\n",
            "Epoch 31/50\n",
            "3/3 [==============================] - 0s 83ms/step - loss: 0.0011\n",
            "Epoch 32/50\n",
            "3/3 [==============================] - 0s 77ms/step - loss: 0.0011\n",
            "Epoch 33/50\n",
            "3/3 [==============================] - 0s 78ms/step - loss: 0.0011\n",
            "Epoch 34/50\n",
            "3/3 [==============================] - 0s 77ms/step - loss: 0.0011\n",
            "Epoch 35/50\n",
            "3/3 [==============================] - 0s 81ms/step - loss: 0.0011\n",
            "Epoch 36/50\n",
            "3/3 [==============================] - 0s 74ms/step - loss: 0.0011\n",
            "Epoch 37/50\n",
            "3/3 [==============================] - 0s 82ms/step - loss: 0.0011\n",
            "Epoch 38/50\n",
            "3/3 [==============================] - 0s 79ms/step - loss: 0.0011\n",
            "Epoch 39/50\n",
            "3/3 [==============================] - 0s 77ms/step - loss: 0.0011\n",
            "Epoch 40/50\n",
            "3/3 [==============================] - 0s 79ms/step - loss: 0.0011\n",
            "Epoch 41/50\n",
            "3/3 [==============================] - 0s 87ms/step - loss: 0.0011\n",
            "Epoch 42/50\n",
            "3/3 [==============================] - 0s 85ms/step - loss: 0.0010\n",
            "Epoch 43/50\n",
            "3/3 [==============================] - 0s 76ms/step - loss: 0.0011\n",
            "Epoch 44/50\n",
            "3/3 [==============================] - 0s 79ms/step - loss: 0.0010\n",
            "Epoch 45/50\n",
            "3/3 [==============================] - 0s 81ms/step - loss: 0.0010\n",
            "Epoch 46/50\n",
            "3/3 [==============================] - 0s 75ms/step - loss: 0.0010\n",
            "Epoch 47/50\n",
            "3/3 [==============================] - 0s 78ms/step - loss: 0.0010\n",
            "Epoch 48/50\n",
            "3/3 [==============================] - 0s 80ms/step - loss: 0.0010\n",
            "Epoch 49/50\n",
            "3/3 [==============================] - 0s 75ms/step - loss: 9.9400e-04\n",
            "Epoch 50/50\n",
            "3/3 [==============================] - 0s 79ms/step - loss: 9.8466e-04\n"
          ]
        },
        {
          "output_type": "execute_result",
          "data": {
            "text/plain": [
              "<keras.callbacks.History at 0x7fc990fcd130>"
            ]
          },
          "metadata": {},
          "execution_count": 15
        }
      ],
      "source": [
        "#Train the model\n",
        "model.fit(x_train, y_train, batch_size=32, epochs=50)"
      ]
    },
    {
      "cell_type": "code",
      "execution_count": null,
      "metadata": {
        "id": "3lrMuOG92sgR"
      },
      "outputs": [],
      "source": [
        "#Create the testing data set\n",
        "test_data = scaled_data[training_data_len - 80: , :]\n",
        "#Create the data sets x_test and y_test\n",
        "x_test = []\n",
        "y_test = dataset[training_data_len:, :] #all of the values that we want model to predict\n",
        "for i in range(80, len(test_data)):\n",
        "  x_test.append(test_data[i-80:i, 0])\n",
        "  "
      ]
    },
    {
      "cell_type": "code",
      "execution_count": null,
      "metadata": {
        "id": "9Q9x57ZI3b1y"
      },
      "outputs": [],
      "source": [
        "#Convert the data to a numpy array\n",
        "x_test = np.array(x_test)"
      ]
    },
    {
      "cell_type": "code",
      "execution_count": null,
      "metadata": {
        "id": "8tpRdoK13kvc"
      },
      "outputs": [],
      "source": [
        "#Reshape the data\n",
        "x_test = np.reshape(x_test, (x_test.shape[0], x_test.shape[1], 1))"
      ]
    },
    {
      "cell_type": "code",
      "execution_count": null,
      "metadata": {
        "colab": {
          "base_uri": "https://localhost:8080/"
        },
        "id": "yp6rn-4232m-",
        "outputId": "d00129c9-c5a8-42c5-ca2f-365935178a39"
      },
      "outputs": [
        {
          "output_type": "stream",
          "name": "stdout",
          "text": [
            "2/2 [==============================] - 1s 18ms/step\n"
          ]
        }
      ],
      "source": [
        "#Get the models predicted price values\n",
        "predictions = model.predict(x_test)\n",
        "predictions = scaler.inverse_transform(predictions)\n"
      ]
    },
    {
      "cell_type": "code",
      "execution_count": null,
      "metadata": {
        "colab": {
          "base_uri": "https://localhost:8080/"
        },
        "id": "1ooS4SO24OIR",
        "outputId": "bcb2f802-247b-4a7b-b5b7-b25f576c42e4"
      },
      "outputs": [
        {
          "output_type": "execute_result",
          "data": {
            "text/plain": [
              "1177.7744497903964"
            ]
          },
          "metadata": {},
          "execution_count": 20
        }
      ],
      "source": [
        "#Get the root mean squared error (RMSE)\n",
        "rmse = np.sqrt( np.mean(predictions - y_test)**2 )\n",
        "rmse"
      ]
    },
    {
      "cell_type": "code",
      "execution_count": null,
      "metadata": {
        "colab": {
          "base_uri": "https://localhost:8080/",
          "height": 664
        },
        "id": "fwyucqDF5Wp_",
        "outputId": "2a8b8780-0e15-4a88-cc32-98581f59d79a"
      },
      "outputs": [
        {
          "output_type": "stream",
          "name": "stderr",
          "text": [
            "<ipython-input-21-c8f73ed83531>:4: SettingWithCopyWarning: \n",
            "A value is trying to be set on a copy of a slice from a DataFrame.\n",
            "Try using .loc[row_indexer,col_indexer] = value instead\n",
            "\n",
            "See the caveats in the documentation: https://pandas.pydata.org/pandas-docs/stable/user_guide/indexing.html#returning-a-view-versus-a-copy\n",
            "  valid['Predictions'] = predictions\n"
          ]
        },
        {
          "output_type": "display_data",
          "data": {
            "text/plain": [
              "<Figure size 1152x576 with 1 Axes>"
            ],
            "image/png": "[encoded data removed]"
          },
          "metadata": {}
        }
      ],
      "source": [
        "#Plot the data\n",
        "train = data[:training_data_len]\n",
        "valid = data[training_data_len:]\n",
        "valid['Predictions'] = predictions\n",
        "#Visualize the data\n",
        "plt.figure(figsize=(16,8))\n",
        "plt.title('Model')\n",
        "plt.xlabel('Date', fontsize=18)\n",
        "plt.ylabel('Close Price VND ', fontsize=18)\n",
        "plt.plot(train['Close'])\n",
        "plt.plot(valid[['Close', 'Predictions']])\n",
        "plt.legend(['Train Data', 'Actual data', 'Predictions'], loc='lower right')\n",
        "plt.show()"
      ]
    }
  ],
  "metadata": {
    "colab": {
      "provenance": [],
      "authorship_tag": "ABX9TyPanumPC4yQxz37YdqSDEuj",
      "include_colab_link": true
    },
    "kernelspec": {
      "display_name": "Python 3",
      "name": "python3"
    },
    "language_info": {
      "name": "python"
    }
  },
  "nbformat": 4,
  "nbformat_minor": 0
}